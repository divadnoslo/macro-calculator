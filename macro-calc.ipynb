{
 "cells": [
  {
   "attachments": {},
   "cell_type": "markdown",
   "metadata": {},
   "source": [
    "# Macro Calculator\n",
    "\n",
    "This will provide the basics functions need to compute the calorie and macro goals for an individual. "
   ]
  },
  {
   "attachments": {},
   "cell_type": "markdown",
   "metadata": {},
   "source": [
    "## So what information do you need to compute someone's calorie and macro goals?\n",
    "\n",
    "- Basal Metobolic Rate (BMR)\n",
    "- Activity Level (as a factor on BMR)\n",
    "- Estimated Energy Requirement (EER)\n",
    "- Outcome to Reach\n",
    "\n",
    "EER = BMR * AL"
   ]
  },
  {
   "cell_type": "code",
   "execution_count": 43,
   "metadata": {},
   "outputs": [
    {
     "name": "stdout",
     "output_type": "stream",
     "text": [
      "Estimated Energy Requirement (EER): 2220.0 kCal\n"
     ]
    }
   ],
   "source": [
    "gender = \"female\"\n",
    "bmr = 2000\n",
    "activity_factor_for_men = {\n",
    "    \"sedentary\": 1.0,\n",
    "    \"low\": 1.11,\n",
    "    \"active\": 1.25,\n",
    "    \"very active\": 1.48\n",
    "}\n",
    "activity_factor_for_women = {\n",
    "    \"sedentary\": 1.0,\n",
    "    \"low\": 1.12,\n",
    "    \"active\": 1.27,\n",
    "    \"very active\": 1.45\n",
    "}\n",
    "\n",
    "if (gender == \"male\"):\n",
    "    eer = activity_factor_for_men[\"low\"] * bmr\n",
    "else:\n",
    "    eer = activity_factor_for_women[\"low\"] * bmr\n",
    "    \n",
    "print(f\"Estimated Energy Requirement (EER): {eer} kCal\")"
   ]
  },
  {
   "attachments": {},
   "cell_type": "markdown",
   "metadata": {},
   "source": [
    "## How Many Calories should you aim for?\n",
    "\n",
    "Need to know:\n",
    "- number of pounds to lose a week"
   ]
  },
  {
   "cell_type": "code",
   "execution_count": 44,
   "metadata": {},
   "outputs": [
    {
     "name": "stdout",
     "output_type": "stream",
     "text": [
      "Daily Caloric Goal: 1720.0 kCal\n"
     ]
    }
   ],
   "source": [
    "lbs_per_week = 1\n",
    "kCal_per_lb = 3500\n",
    "\n",
    "daily_caloric_goal = ((eer * 7) - (lbs_per_week * kCal_per_lb))/7\n",
    "print(f\"Daily Caloric Goal: {daily_caloric_goal} kCal\")"
   ]
  },
  {
   "attachments": {},
   "cell_type": "markdown",
   "metadata": {},
   "source": [
    "## So then what should your macros be?\n",
    "\n",
    "This is based on your reccomended dietary allowance (RDA)\n",
    "\n",
    "Optional porportions include: (for carbs, protein, and fats)\n",
    "- low: x, 0.8g per kg, x\n",
    "- normal: x, \n",
    "- high protein: x, 2g per kg, x"
   ]
  },
  {
   "cell_type": "code",
   "execution_count": 45,
   "metadata": {},
   "outputs": [
    {
     "name": "stdout",
     "output_type": "stream",
     "text": [
      "Daily Caloric Intake:  2220.0 kCal\n",
      "Daily Carbs Intake:    301.0 grams\n",
      "Daily Protein Intake:  143.0 grams\n",
      "Daily Fat Intake:      49.333333333333336 grams\n"
     ]
    }
   ],
   "source": [
    "weight_in_kg = 110.0\n",
    "\n",
    "protein_metric = {\n",
    "    \"rda\": 0.8, \n",
    "    \"endurance\": 1.3, \n",
    "    \"gain muscle\": 2.0, \n",
    "    \"strength maintain\": 1.7, \n",
    "    \"weight restricted\": 1.9\n",
    "}\n",
    "\n",
    "fat_metric = {\n",
    "    \"low\": 0.20, \n",
    "    \"medium\": 0.27, \n",
    "    \"high\": 0.35\n",
    "}\n",
    "\n",
    "# Compute Macros\n",
    "\n",
    "protein_goal = protein_metric[\"endurance\"] * weight_in_kg\n",
    "protein_calories = protein_goal * 4\n",
    "calories_left = eer - protein_calories\n",
    "\n",
    "fat_calories = fat_metric[\"low\"] * eer\n",
    "fat_goal = fat_calories / 9\n",
    "calories_left = calories_left - fat_calories\n",
    "\n",
    "carb_goal = calories_left / 4\n",
    "\n",
    "# Print Macros\n",
    "print(f\"Daily Caloric Intake:  {eer} kCal\")\n",
    "print(f\"Daily Carbs Intake:    {carb_goal} grams\")\n",
    "print(f\"Daily Protein Intake:  {protein_goal} grams\")\n",
    "print(f\"Daily Fat Intake:      {fat_goal} grams\")\n"
   ]
  }
 ],
 "metadata": {
  "kernelspec": {
   "display_name": "Python 3",
   "language": "python",
   "name": "python3"
  },
  "language_info": {
   "codemirror_mode": {
    "name": "ipython",
    "version": 3
   },
   "file_extension": ".py",
   "mimetype": "text/x-python",
   "name": "python",
   "nbconvert_exporter": "python",
   "pygments_lexer": "ipython3",
   "version": "3.10.6"
  },
  "orig_nbformat": 4,
  "vscode": {
   "interpreter": {
    "hash": "916dbcbb3f70747c44a77c7bcd40155683ae19c65e1c03b4aa3499c5328201f1"
   }
  }
 },
 "nbformat": 4,
 "nbformat_minor": 2
}
